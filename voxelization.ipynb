{
 "cells": [
  {
   "cell_type": "code",
   "execution_count": 2,
   "metadata": {},
   "outputs": [],
   "source": [
    "#from pyntcloud import PyntCloud\n",
    "import open3d as o3d\n",
    "import numpy as np\n",
    "from sklearn.decomposition import PCA"
   ]
  },
  {
   "cell_type": "code",
   "execution_count": null,
   "metadata": {},
   "outputs": [],
   "source": [
    "octree = o3d.geometry.Octree(2)\n",
    "octree.create_from_voxel_grid(voxel_grid)\n",
    "\n",
    "#octree.convert_from_point_cloud(pcd)\n",
    "o3d.visualization.draw_geometries([octree])"
   ]
  },
  {
   "cell_type": "code",
   "execution_count": 5,
   "metadata": {},
   "outputs": [],
   "source": [
    "voxel_grid = o3d.geometry.VoxelGrid.create_from_point_cloud(pcd,\n",
    "                                                            voxel_size=50)\n",
    "\n",
    "#o3d.visualization.draw_geometries([voxel_grid])"
   ]
  },
  {
   "cell_type": "code",
   "execution_count": 4,
   "metadata": {},
   "outputs": [],
   "source": [
    "pcd = o3d.io.read_point_cloud(\"finalproject.ply\")\n",
    "xyz = np.asarray(pcd.points)\n"
   ]
  },
  {
   "cell_type": "code",
   "execution_count": null,
   "metadata": {
    "scrolled": true
   },
   "outputs": [],
   "source": [
    "from pyntcloud import PyntCloud\n",
    "import open3d as o3d\n",
    "import numpy as np\n",
    "\n",
    "pc = PyntCloud.from_file(\"finalproject.ply\")\n",
    "voxelgrid_id = pc.add_structure(\"voxelgrid\", n_x=64, n_y=64, n_z=64)\n",
    "voxelgrid = pc.structures[voxelgrid_id]\n",
    "#voxelgrid.plot(d=3, mode=\"density\", cmap=\"hsv\")"
   ]
  },
  {
   "cell_type": "code",
   "execution_count": null,
   "metadata": {},
   "outputs": [],
   "source": [
    "voxelgrid_id = pc.add_structure(\"voxelgrid\", n_x=64, n_y=64, n_z=64)\n",
    "\n",
    "voxelgrid = pc.structures[voxelgrid_id]"
   ]
  },
  {
   "cell_type": "code",
   "execution_count": null,
   "metadata": {
    "scrolled": true
   },
   "outputs": [],
   "source": [
    "voxelgrid.plot(d=3, mode=\"density\", cmap=\"hsv\")"
   ]
  },
  {
   "cell_type": "code",
   "execution_count": null,
   "metadata": {},
   "outputs": [],
   "source": [
    "pca_2  = PCA(n_components = 2)\n",
    "arr = [1,1], [2,1], [1,2], [2,2] ,[3,3],[3,2]\n",
    "pca_2.fit(arr)\n",
    "pca_2.explained_variance_ratio_\n",
    "#pca_2.components_"
   ]
  },
  {
   "cell_type": "code",
   "execution_count": null,
   "metadata": {},
   "outputs": [],
   "source": [
    "voxelgrid.voxel_n\n",
    "unique_\n",
    "'voxels = np.unique(voxelgrid.voxel_n)\n",
    "unique_voxels\n",
    "pca = PCA(n_components=3)\n",
    "\n",
    "for voxel_id in unique_voxels:\n",
    "    indices = np.where(voxelgrid.voxel_n == voxel_id)\n",
    "    coords = (xyz[indices])\n",
    "    \n",
    "    if(coords.shape[0] > 2):\n",
    "        pca.fit(coords)\n",
    "        print(pca.explained_variance_)\n",
    "        \n",
    "\n",
    "    "
   ]
  },
  {
   "cell_type": "code",
   "execution_count": null,
   "metadata": {},
   "outputs": [],
   "source": [
    "\n",
    "\n",
    "all_voxels = np.unique(struc)\n",
    "all_voxels.shape"
   ]
  },
  {
   "cell_type": "code",
   "execution_count": null,
   "metadata": {},
   "outputs": [],
   "source": [
    "for voxel in all_voxels:\n",
    "    indices = np.where(struc == voxel)\n",
    "    print(xyz[indices[0][10]])"
   ]
  },
  {
   "cell_type": "code",
   "execution_count": null,
   "metadata": {},
   "outputs": [],
   "source": [
    "filtered  = np.where(struc == 87007)\n",
    "filtered"
   ]
  },
  {
   "cell_type": "code",
   "execution_count": null,
   "metadata": {},
   "outputs": [],
   "source": [
    "points_in_voxels = voxelgrid.query(xyz)"
   ]
  },
  {
   "cell_type": "code",
   "execution_count": null,
   "metadata": {},
   "outputs": [],
   "source": [
    "np.unique(voxelgrid.voxel_n).shape"
   ]
  },
  {
   "cell_type": "code",
   "execution_count": null,
   "metadata": {},
   "outputs": [],
   "source": [
    "a = voxelgrid.voxel_n\n",
    "b = np.unique(a)\n",
    "print (voxelgrid.voxel)"
   ]
  },
  {
   "cell_type": "code",
   "execution_count": null,
   "metadata": {},
   "outputs": [],
   "source": [
    "\n",
    "\n",
    "filter_arr = a == 176091\n",
    "\n",
    "newarr = a[filter_arr]\n",
    "\n",
    "print(filter_arr)\n",
    "print(newarr.shape)"
   ]
  },
  {
   "cell_type": "code",
   "execution_count": null,
   "metadata": {},
   "outputs": [],
   "source": []
  },
  {
   "cell_type": "code",
   "execution_count": null,
   "metadata": {},
   "outputs": [],
   "source": []
  }
 ],
 "metadata": {
  "kernelspec": {
   "display_name": "Python 3",
   "language": "python",
   "name": "python3"
  },
  "language_info": {
   "codemirror_mode": {
    "name": "ipython",
    "version": 3
   },
   "file_extension": ".py",
   "mimetype": "text/x-python",
   "name": "python",
   "nbconvert_exporter": "python",
   "pygments_lexer": "ipython3",
   "version": "3.7.9"
  }
 },
 "nbformat": 4,
 "nbformat_minor": 4
}
